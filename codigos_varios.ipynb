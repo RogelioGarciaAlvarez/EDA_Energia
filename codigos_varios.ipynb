{
 "cells": [
  {
   "cell_type": "markdown",
   "metadata": {},
   "source": [
    "| Columna/Variable       | Descripción                                                     | Tipo de variable  | Importancia inicial  | Notas |\n",
    "|------------------------|-----------------------------------------------------------------|-------------------|----------------------|-------|\n",
    "| Fecha                  | Fecha de generación                                             | Fecha             | 0                    |       |\n",
    "| Hidraulica             | Generación diaria de energía hidraulica en GWh                  | Numérica continua | 0                    |       |\n",
    "| Turbinacion bombeo     | Generación diaria de energía por turbinación por bombeo en GWh  | Numérica continua | 0                    |       |\n",
    "| Nuclear                | Generación diaria de energía nuclear en GWh                     | Numérica continua | 0                    |       |\n",
    "| Carbon                 | Generación diaria de energía por carbón en GWh                  | Numérica continua | 0                    |       |\n",
    "| Motores diesel         | Generación diaria de energía por motores diesel en GWh          | Numérica continua | 0                    |       |"
   ]
  },
  {
   "cell_type": "code",
   "execution_count": null,
   "metadata": {},
   "outputs": [],
   "source": []
  },
  {
   "cell_type": "code",
   "execution_count": null,
   "metadata": {},
   "outputs": [],
   "source": [
    "lista_columnas = [\"energia_eolica\",\"energia_hidraulica\",\"energia_solar\",\"energia_otras_renovables\"]\n",
    "lista_anyos = df_energia.index.year.unique().to_list()\n",
    "\n",
    "if len(lista_anyos) % 2 == 0:\n",
    "    filas = len(lista_anyos) // 2\n",
    "    \n",
    "else:\n",
    "    filas = len(lista_anyos) // 2 + 1\n",
    "\n",
    "fig, axs = plt.subplots(filas, 2, figsize=(18, filas * 5))\n",
    "\n",
    "axs = axs.flatten()\n",
    "\n",
    "#Definimos los colores\n",
    "color_eolica =  \"green\"\n",
    "color_hidraulica = \"blue\"\n",
    "color_solar = \"orange\"\n",
    "color_otras = \"yellow\"\n",
    "\n",
    "for indice, anyo in enumerate(lista_anyos):\n",
    "    \n",
    "    df_piechart = df_energia.loc[df_energia.index.year == anyo, lista_columnas]\n",
    "    \n",
    "    #Suma de los valores de las tres columnas\n",
    "    suma_total = df_piechart.sum().sum()\n",
    "\n",
    "    #Calcular porcentaje de cada columna\n",
    "    porcentajes = df_piechart.sum() / suma_total * 100\n",
    "    \n",
    "    #Crear el pie chart\n",
    "    axs[indice].pie(porcentajes, autopct='%1.1f%%', startangle=90, counterclock=False, colors = [color_eolica,color_hidraulica,color_solar,color_otras])\n",
    "    \n",
    "    axs[indice].legend(porcentajes.index, title=\"Tipo de energía\", loc=\"upper right\", bbox_to_anchor=(1.6, 1))\n",
    "\n",
    "    #Titulo\n",
    "    axs[indice].set_title(f\"Año {anyo}\")\n",
    "\n",
    "#Quitamos los ejes de la subfigura que no tiene gráfica asignada (si la hay)\n",
    "for j in range(indice + 1, len(axs)):\n",
    "    axs[j].axis(\"off\")\n",
    "\n",
    "plt.suptitle(\"Distribución de la generación de energía renovable\")\n",
    "plt.show()"
   ]
  },
  {
   "cell_type": "code",
   "execution_count": null,
   "metadata": {},
   "outputs": [],
   "source": []
  },
  {
   "cell_type": "code",
   "execution_count": null,
   "metadata": {},
   "outputs": [],
   "source": [
    "#Definimos una funcion para obtener la principales medidas de tendencia central\n",
    "def medidas_tendencia_central(df,lista_columnas):\n",
    "    df_medidas = df.describe()[lista_columnas]\n",
    "    df_medidas = df_medidas.T\n",
    "    df_medidas = df_medidas.drop(columns=[\"count\"])\n",
    "    \n",
    "    #Incluimos el coeficiente de variacion\n",
    "    df_medidas[\"coeficiente_variacion\"] = 0.0\n",
    "    for variable in df_medidas.index:\n",
    "        cv = round((df_medidas.loc[variable, \"mean\"]/df_medidas.loc[variable, \"std\"])*100,2)\n",
    "        df_medidas.loc[variable, \"coeficiente_variacion\"] = cv\n",
    "    \n",
    "    return df_medidas"
   ]
  },
  {
   "cell_type": "code",
   "execution_count": null,
   "metadata": {},
   "outputs": [],
   "source": []
  },
  {
   "cell_type": "code",
   "execution_count": null,
   "metadata": {},
   "outputs": [],
   "source": [
    "df_piechart = df_energia[[\"Demanda\",\"generacion_total\"]]\n",
    "\n",
    "# Suma de los valores de las tres columnas\n",
    "suma_total = df_piechart.sum().sum()\n",
    "\n",
    "# Calcular porcentaje de cada columna\n",
    "porcentajes = df_piechart.sum() / suma_total * 100\n",
    "\n",
    "# Crear el pie chart\n",
    "plt.pie(porcentajes, labels=porcentajes.index, autopct='%1.1f%%', startangle=90)\n",
    "plt.title('Deistribución de la generación de energía')\n",
    "plt.show()"
   ]
  },
  {
   "cell_type": "code",
   "execution_count": null,
   "metadata": {},
   "outputs": [],
   "source": []
  },
  {
   "cell_type": "markdown",
   "metadata": {},
   "source": [
    "Creamos un DataFrame con la suma de la generación de energía por trimestre y año"
   ]
  },
  {
   "cell_type": "code",
   "execution_count": null,
   "metadata": {},
   "outputs": [],
   "source": [
    "#Hacemos una copia del DataFrame original\n",
    "df_energia_trim = df_energia.copy()\n",
    "\n",
    "#Creamos nuevas columnas auxiliares con el año y el trimestre\n",
    "df_energia_trim[\"año\"] = df_energia_trim.index.year\n",
    "df_energia_trim[\"trim\"] = df_energia_trim.index.quarter\n",
    "\n",
    "#Creamos la columna con la concatenacion de trimestre y año\n",
    "df_energia_trim[\"año_trim\"] = df_energia_trim[\"trim\"].astype(str) + \"/\" +  df_energia_trim[\"año\"].astype(str)\n",
    "\n",
    "#Eliminamos las columnas auxiliares creadas inicialmente\n",
    "df_energia_trim.drop(columns=[\"año\",\"trim\"],inplace=True)\n",
    "\n",
    "#Agrupamos por esas fechas\n",
    "df_energia_trim = df_energia_trim.groupby(\"año_trim\").sum()"
   ]
  },
  {
   "cell_type": "code",
   "execution_count": null,
   "metadata": {},
   "outputs": [],
   "source": []
  }
 ],
 "metadata": {
  "kernelspec": {
   "display_name": "Python 3",
   "language": "python",
   "name": "python3"
  },
  "language_info": {
   "name": "python",
   "version": "3.10.11"
  }
 },
 "nbformat": 4,
 "nbformat_minor": 2
}
