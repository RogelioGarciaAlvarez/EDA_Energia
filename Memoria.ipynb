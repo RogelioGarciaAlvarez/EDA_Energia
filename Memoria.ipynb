{
 "cells": [
  {
   "cell_type": "markdown",
   "metadata": {},
   "source": [
    "# Índice\n",
    "\n",
    "1. [Exploración inicial y preparación de los datos](#1.-Exploración-inicial-y-preparación-de-los-datos)\n",
    "\n",
    "    1.1. [Datos sobre la generación de energía en España](#.1.1.-Datos-sobre-la-generación-de-energía-en-España)\n",
    "\n",
    "2. [Análisis univariante](#)\n",
    "3. [Análisis bivariante](#)\n"
   ]
  },
  {
   "cell_type": "markdown",
   "metadata": {},
   "source": [
    "## 1. Exploración inicial y preparación de los datos"
   ]
  },
  {
   "cell_type": "code",
   "execution_count": 460,
   "metadata": {},
   "outputs": [],
   "source": [
    "#Importamos las librerias necesarias\n",
    "import matplotlib.pyplot as plt\n",
    "import numpy as np\n",
    "import pandas as pd\n",
    "import seaborn as sns\n",
    "import visualizacion_analisis as viz"
   ]
  },
  {
   "cell_type": "code",
   "execution_count": 461,
   "metadata": {},
   "outputs": [],
   "source": [
    "#Creamos los DataFrames\n",
    "df_energia = pd.read_csv(\"./data/estructura_generacion.csv\")"
   ]
  },
  {
   "cell_type": "markdown",
   "metadata": {},
   "source": [
    "Visualizamos los datos sobre la estructura de generación de la energía"
   ]
  },
  {
   "cell_type": "code",
   "execution_count": 462,
   "metadata": {},
   "outputs": [
    {
     "data": {
      "text/html": [
       "<div>\n",
       "<style scoped>\n",
       "    .dataframe tbody tr th:only-of-type {\n",
       "        vertical-align: middle;\n",
       "    }\n",
       "\n",
       "    .dataframe tbody tr th {\n",
       "        vertical-align: top;\n",
       "    }\n",
       "\n",
       "    .dataframe thead th {\n",
       "        text-align: right;\n",
       "    }\n",
       "</style>\n",
       "<table border=\"1\" class=\"dataframe\">\n",
       "  <thead>\n",
       "    <tr style=\"text-align: right;\">\n",
       "      <th></th>\n",
       "      <th>Fecha</th>\n",
       "      <th>Hidraulica</th>\n",
       "      <th>Turbinacion bombeo</th>\n",
       "      <th>Nuclear</th>\n",
       "      <th>Carbon</th>\n",
       "      <th>Motores diesel</th>\n",
       "      <th>Turbina de gas</th>\n",
       "      <th>Turbina de vapor</th>\n",
       "      <th>Ciclo combinado</th>\n",
       "      <th>Eolica</th>\n",
       "      <th>Solar fotovoltaica</th>\n",
       "      <th>Solar termica</th>\n",
       "      <th>Otras renovables</th>\n",
       "      <th>Cogeneracion</th>\n",
       "      <th>Residuos no renovables</th>\n",
       "      <th>Residuos renovables</th>\n",
       "      <th>Generacion total</th>\n",
       "    </tr>\n",
       "  </thead>\n",
       "  <tbody>\n",
       "    <tr>\n",
       "      <th>0</th>\n",
       "      <td>01/01/2011</td>\n",
       "      <td>132.922642</td>\n",
       "      <td>3.096794</td>\n",
       "      <td>156.043256</td>\n",
       "      <td>63.539183</td>\n",
       "      <td>9.421646</td>\n",
       "      <td>0.635928</td>\n",
       "      <td>6.335737</td>\n",
       "      <td>142.852659</td>\n",
       "      <td>30.530962</td>\n",
       "      <td>6.383971</td>\n",
       "      <td>0.689682</td>\n",
       "      <td>9.422600</td>\n",
       "      <td>60.034044</td>\n",
       "      <td>3.476619</td>\n",
       "      <td>2.075125</td>\n",
       "      <td>627.460848</td>\n",
       "    </tr>\n",
       "    <tr>\n",
       "      <th>1</th>\n",
       "      <td>02/01/2011</td>\n",
       "      <td>122.475160</td>\n",
       "      <td>5.812876</td>\n",
       "      <td>155.946404</td>\n",
       "      <td>63.250905</td>\n",
       "      <td>9.583460</td>\n",
       "      <td>0.760919</td>\n",
       "      <td>7.312269</td>\n",
       "      <td>105.985984</td>\n",
       "      <td>120.932782</td>\n",
       "      <td>9.681929</td>\n",
       "      <td>0.906356</td>\n",
       "      <td>9.735174</td>\n",
       "      <td>67.987652</td>\n",
       "      <td>3.541864</td>\n",
       "      <td>1.974489</td>\n",
       "      <td>685.888223</td>\n",
       "    </tr>\n",
       "    <tr>\n",
       "      <th>2</th>\n",
       "      <td>03/01/2011</td>\n",
       "      <td>146.861638</td>\n",
       "      <td>3.855045</td>\n",
       "      <td>155.911784</td>\n",
       "      <td>99.351269</td>\n",
       "      <td>10.031223</td>\n",
       "      <td>1.936269</td>\n",
       "      <td>8.551252</td>\n",
       "      <td>220.507008</td>\n",
       "      <td>77.934616</td>\n",
       "      <td>12.336110</td>\n",
       "      <td>0.635974</td>\n",
       "      <td>9.724737</td>\n",
       "      <td>89.705195</td>\n",
       "      <td>3.601894</td>\n",
       "      <td>1.996498</td>\n",
       "      <td>842.940512</td>\n",
       "    </tr>\n",
       "    <tr>\n",
       "      <th>3</th>\n",
       "      <td>04/01/2011</td>\n",
       "      <td>145.876053</td>\n",
       "      <td>8.182844</td>\n",
       "      <td>156.264172</td>\n",
       "      <td>115.105686</td>\n",
       "      <td>10.024313</td>\n",
       "      <td>2.079062</td>\n",
       "      <td>8.355284</td>\n",
       "      <td>203.996354</td>\n",
       "      <td>104.022723</td>\n",
       "      <td>8.502068</td>\n",
       "      <td>0.965016</td>\n",
       "      <td>9.832040</td>\n",
       "      <td>93.111247</td>\n",
       "      <td>3.409972</td>\n",
       "      <td>1.783813</td>\n",
       "      <td>871.510647</td>\n",
       "    </tr>\n",
       "    <tr>\n",
       "      <th>4</th>\n",
       "      <td>05/01/2011</td>\n",
       "      <td>158.946134</td>\n",
       "      <td>5.497872</td>\n",
       "      <td>156.313258</td>\n",
       "      <td>71.928723</td>\n",
       "      <td>10.067259</td>\n",
       "      <td>1.454871</td>\n",
       "      <td>8.234295</td>\n",
       "      <td>111.598224</td>\n",
       "      <td>200.221686</td>\n",
       "      <td>7.503855</td>\n",
       "      <td>0.888609</td>\n",
       "      <td>10.526449</td>\n",
       "      <td>90.420805</td>\n",
       "      <td>3.482283</td>\n",
       "      <td>1.746282</td>\n",
       "      <td>838.830605</td>\n",
       "    </tr>\n",
       "  </tbody>\n",
       "</table>\n",
       "</div>"
      ],
      "text/plain": [
       "        Fecha  Hidraulica  Turbinacion bombeo     Nuclear      Carbon  \\\n",
       "0  01/01/2011  132.922642            3.096794  156.043256   63.539183   \n",
       "1  02/01/2011  122.475160            5.812876  155.946404   63.250905   \n",
       "2  03/01/2011  146.861638            3.855045  155.911784   99.351269   \n",
       "3  04/01/2011  145.876053            8.182844  156.264172  115.105686   \n",
       "4  05/01/2011  158.946134            5.497872  156.313258   71.928723   \n",
       "\n",
       "   Motores diesel  Turbina de gas  Turbina de vapor  Ciclo combinado  \\\n",
       "0        9.421646        0.635928          6.335737       142.852659   \n",
       "1        9.583460        0.760919          7.312269       105.985984   \n",
       "2       10.031223        1.936269          8.551252       220.507008   \n",
       "3       10.024313        2.079062          8.355284       203.996354   \n",
       "4       10.067259        1.454871          8.234295       111.598224   \n",
       "\n",
       "       Eolica  Solar fotovoltaica  Solar termica  Otras renovables  \\\n",
       "0   30.530962            6.383971       0.689682          9.422600   \n",
       "1  120.932782            9.681929       0.906356          9.735174   \n",
       "2   77.934616           12.336110       0.635974          9.724737   \n",
       "3  104.022723            8.502068       0.965016          9.832040   \n",
       "4  200.221686            7.503855       0.888609         10.526449   \n",
       "\n",
       "   Cogeneracion  Residuos no renovables  Residuos renovables  Generacion total  \n",
       "0     60.034044                3.476619             2.075125        627.460848  \n",
       "1     67.987652                3.541864             1.974489        685.888223  \n",
       "2     89.705195                3.601894             1.996498        842.940512  \n",
       "3     93.111247                3.409972             1.783813        871.510647  \n",
       "4     90.420805                3.482283             1.746282        838.830605  "
      ]
     },
     "execution_count": 462,
     "metadata": {},
     "output_type": "execute_result"
    }
   ],
   "source": [
    "df_energia.head()"
   ]
  },
  {
   "cell_type": "code",
   "execution_count": 463,
   "metadata": {},
   "outputs": [
    {
     "name": "stdout",
     "output_type": "stream",
     "text": [
      "<class 'pandas.core.frame.DataFrame'>\n",
      "RangeIndex: 4717 entries, 0 to 4716\n",
      "Data columns (total 17 columns):\n",
      " #   Column                  Non-Null Count  Dtype  \n",
      "---  ------                  --------------  -----  \n",
      " 0   Fecha                   4717 non-null   object \n",
      " 1   Hidraulica              4717 non-null   float64\n",
      " 2   Turbinacion bombeo      4717 non-null   float64\n",
      " 3   Nuclear                 4717 non-null   float64\n",
      " 4   Carbon                  4717 non-null   float64\n",
      " 5   Motores diesel          4717 non-null   float64\n",
      " 6   Turbina de gas          4717 non-null   float64\n",
      " 7   Turbina de vapor        4717 non-null   float64\n",
      " 8   Ciclo combinado         4717 non-null   float64\n",
      " 9   Eolica                  4717 non-null   float64\n",
      " 10  Solar fotovoltaica      4717 non-null   float64\n",
      " 11  Solar termica           4717 non-null   float64\n",
      " 12  Otras renovables        4717 non-null   float64\n",
      " 13  Cogeneracion            4717 non-null   float64\n",
      " 14  Residuos no renovables  4717 non-null   float64\n",
      " 15  Residuos renovables     4717 non-null   float64\n",
      " 16  Generacion total        4717 non-null   float64\n",
      "dtypes: float64(16), object(1)\n",
      "memory usage: 626.6+ KB\n"
     ]
    }
   ],
   "source": [
    "df_energia.info()"
   ]
  },
  {
   "cell_type": "markdown",
   "metadata": {},
   "source": [
    "No hay valores nulos. Convertimos el tipo de la columna \"Fecha\" al formato adecuado"
   ]
  },
  {
   "cell_type": "code",
   "execution_count": 464,
   "metadata": {},
   "outputs": [],
   "source": [
    "df_energia[\"Fecha\"] = pd.to_datetime(df_energia[\"Fecha\"], format='%d/%m/%Y')"
   ]
  },
  {
   "cell_type": "markdown",
   "metadata": {},
   "source": [
    "### 1.1. Datos sobre la generación de energía en España"
   ]
  },
  {
   "cell_type": "markdown",
   "metadata": {},
   "source": [
    "Modificamos la estructura del DataFrame para el análisis"
   ]
  },
  {
   "cell_type": "code",
   "execution_count": 465,
   "metadata": {},
   "outputs": [
    {
     "data": {
      "text/html": [
       "<div>\n",
       "<style scoped>\n",
       "    .dataframe tbody tr th:only-of-type {\n",
       "        vertical-align: middle;\n",
       "    }\n",
       "\n",
       "    .dataframe tbody tr th {\n",
       "        vertical-align: top;\n",
       "    }\n",
       "\n",
       "    .dataframe thead th {\n",
       "        text-align: right;\n",
       "    }\n",
       "</style>\n",
       "<table border=\"1\" class=\"dataframe\">\n",
       "  <thead>\n",
       "    <tr style=\"text-align: right;\">\n",
       "      <th></th>\n",
       "      <th>Fecha</th>\n",
       "      <th>tipo_generacion</th>\n",
       "      <th>energia_generada</th>\n",
       "    </tr>\n",
       "  </thead>\n",
       "  <tbody>\n",
       "    <tr>\n",
       "      <th>0</th>\n",
       "      <td>2011-01-01</td>\n",
       "      <td>Hidraulica</td>\n",
       "      <td>132.922642</td>\n",
       "    </tr>\n",
       "    <tr>\n",
       "      <th>1</th>\n",
       "      <td>2011-01-02</td>\n",
       "      <td>Hidraulica</td>\n",
       "      <td>122.475160</td>\n",
       "    </tr>\n",
       "    <tr>\n",
       "      <th>2</th>\n",
       "      <td>2011-01-03</td>\n",
       "      <td>Hidraulica</td>\n",
       "      <td>146.861638</td>\n",
       "    </tr>\n",
       "    <tr>\n",
       "      <th>3</th>\n",
       "      <td>2011-01-04</td>\n",
       "      <td>Hidraulica</td>\n",
       "      <td>145.876053</td>\n",
       "    </tr>\n",
       "    <tr>\n",
       "      <th>4</th>\n",
       "      <td>2011-01-05</td>\n",
       "      <td>Hidraulica</td>\n",
       "      <td>158.946134</td>\n",
       "    </tr>\n",
       "  </tbody>\n",
       "</table>\n",
       "</div>"
      ],
      "text/plain": [
       "       Fecha tipo_generacion  energia_generada\n",
       "0 2011-01-01      Hidraulica        132.922642\n",
       "1 2011-01-02      Hidraulica        122.475160\n",
       "2 2011-01-03      Hidraulica        146.861638\n",
       "3 2011-01-04      Hidraulica        145.876053\n",
       "4 2011-01-05      Hidraulica        158.946134"
      ]
     },
     "execution_count": 465,
     "metadata": {},
     "output_type": "execute_result"
    }
   ],
   "source": [
    "#Eliminamos la columna de generación total\n",
    "df_energia.drop(columns=\"Generacion total\", inplace=True)\n",
    "\n",
    "#Ponemos los valores de cada columna por filas\n",
    "columnas_melt = [columna for columna in df_energia.columns if \"Fecha\" != columna]\n",
    "df_energia = pd.melt(df_energia, id_vars=[\"Fecha\"], value_vars=columnas_melt)\n",
    "\n",
    "#Renombramos la columna con los valores\n",
    "df_energia.rename(columns={\"variable\":\"tipo_generacion\",\"value\":\"energia_generada\"},inplace=True)\n",
    "\n",
    "df_energia.head()"
   ]
  },
  {
   "cell_type": "code",
   "execution_count": 466,
   "metadata": {},
   "outputs": [
    {
     "name": "stdout",
     "output_type": "stream",
     "text": [
      "<class 'pandas.core.frame.DataFrame'>\n",
      "RangeIndex: 70755 entries, 0 to 70754\n",
      "Data columns (total 3 columns):\n",
      " #   Column            Non-Null Count  Dtype         \n",
      "---  ------            --------------  -----         \n",
      " 0   Fecha             70755 non-null  datetime64[ns]\n",
      " 1   tipo_generacion   70755 non-null  object        \n",
      " 2   energia_generada  70755 non-null  float64       \n",
      "dtypes: datetime64[ns](1), float64(1), object(1)\n",
      "memory usage: 1.6+ MB\n"
     ]
    }
   ],
   "source": [
    "df_energia.info()"
   ]
  },
  {
   "cell_type": "markdown",
   "metadata": {},
   "source": [
    "Continuamos agrupando la generación de energía en 3 grupos, según el origen de la energía, para el análisis del mix energético:\n",
    "* Energía generada a partir de fuentes renovables\n",
    "* Energía generada a partir de combustibles fósiles\n",
    "* Energía generada por reacciones nucleares"
   ]
  },
  {
   "cell_type": "code",
   "execution_count": 467,
   "metadata": {},
   "outputs": [],
   "source": [
    "#Definimos la función para la clasificación\n",
    "def clasificador_energia(valor):\n",
    "    \n",
    "    if valor == \"Hidraulica\":\n",
    "        return \"Renovable\"\n",
    "    \n",
    "    elif valor == \"Turbinacion bombeo\":\n",
    "        return \"Renovable\"\n",
    "    \n",
    "    elif valor == \"Nuclear\":\n",
    "        return  \"Nuclear\"\n",
    "    \n",
    "    elif valor == \"Carbon\":\n",
    "        return \"Fosil\"\n",
    "    \n",
    "    elif valor == \"Motores diesel\":\n",
    "        return \"Fosil\"\n",
    "    \n",
    "    elif valor == \"Turbina de gas\":\n",
    "        return \"Fosil\"\n",
    "    \n",
    "    elif valor == \"Turbina de vapor\":\n",
    "        return \"Fosil\"  \n",
    "    \n",
    "    elif valor == \"Ciclo combinado\":\n",
    "        return \"Fosil\" \n",
    "    \n",
    "    elif valor == \"Eolica\":\n",
    "        return \"Renovable\"\n",
    "    \n",
    "    elif valor == \"Solar fotovoltaica\":\n",
    "        return \"Renovable\"\n",
    "\n",
    "    elif valor == \"Solar termica\":\n",
    "        return \"Renovable\"\n",
    "    \n",
    "    elif valor == \"Otras renovables\":\n",
    "        return \"Renovable\"\n",
    "    \n",
    "    elif valor == \"Cogeneracion\":\n",
    "        return \"Fosil\"\n",
    "    \n",
    "    elif valor == \"Residuos no renovables\":\n",
    "        return \"Fosil\"\n",
    "    \n",
    "    elif valor == \"Residuos renovables\":\n",
    "        return \"Renovable\"\n",
    "    \n",
    "    else:\n",
    "        return \"error\"\n",
    "\n",
    "#Creamos una columna con la clasificación\n",
    "df_energia[\"origen_energia\"] = df_energia[\"tipo_generacion\"].apply(clasificador_energia)"
   ]
  },
  {
   "cell_type": "markdown",
   "metadata": {},
   "source": [
    "Creamos una columna con la clasificación de la energía según si emite de CO2"
   ]
  },
  {
   "cell_type": "code",
   "execution_count": 468,
   "metadata": {},
   "outputs": [],
   "source": [
    "#Definimos la función para la clasificación\n",
    "def clasificador_emision(valor):\n",
    "    \n",
    "    if valor == \"Hidraulica\":\n",
    "        return \"No\"\n",
    "    \n",
    "    elif valor == \"Turbinacion bombeo\":\n",
    "        return \"No\"\n",
    "    \n",
    "    elif valor == \"Nuclear\":\n",
    "        return  \"No\"\n",
    "    \n",
    "    elif valor == \"Carbon\":\n",
    "        return \"Si\"\n",
    "    \n",
    "    elif valor == \"Motores diesel\":\n",
    "        return \"Si\"\n",
    "    \n",
    "    elif valor == \"Turbina de gas\":\n",
    "        return \"Si\"\n",
    "    \n",
    "    elif valor == \"Turbina de vapor\":\n",
    "        return \"Si\"  \n",
    "    \n",
    "    elif valor == \"Ciclo combinado\":\n",
    "        return \"Si\" \n",
    "    \n",
    "    elif valor == \"Eolica\":\n",
    "        return \"No\"\n",
    "    \n",
    "    elif valor == \"Solar fotovoltaica\":\n",
    "        return \"No\"\n",
    "\n",
    "    elif valor == \"Solar termica\":\n",
    "        return \"No\"\n",
    "    \n",
    "    elif valor == \"Otras renovables\":\n",
    "        return \"No\"\n",
    "    \n",
    "    elif valor == \"Cogeneracion\":\n",
    "        return \"Si\"\n",
    "    \n",
    "    elif valor == \"Residuos no renovables\":\n",
    "        return \"Si\"\n",
    "    \n",
    "    elif valor == \"Residuos renovables\":\n",
    "        return \"No\"\n",
    "    \n",
    "    else:\n",
    "        return \"error\"\n",
    "\n",
    "#Creamos una columna con la clasificación\n",
    "df_energia[\"emision_CO2\"] = df_energia[\"tipo_generacion\"].apply(clasificador_emision)"
   ]
  },
  {
   "cell_type": "markdown",
   "metadata": {},
   "source": [
    "Incluimos una columna con el año"
   ]
  },
  {
   "cell_type": "code",
   "execution_count": 469,
   "metadata": {},
   "outputs": [],
   "source": [
    "df_energia[\"año\"] = df_energia[\"Fecha\"].dt.year"
   ]
  },
  {
   "cell_type": "code",
   "execution_count": 470,
   "metadata": {},
   "outputs": [],
   "source": [
    "#df_energia[\"energia_renovable\"] = df_energia[\"Hidraulica\"] + df_energia[\"Turbinacion bombeo\"] + df_energia[\"Eolica\"] + df_energia[\"Solar fotovoltaica\"] + df_energia[\"Solar termica\"] + df_energia[\"Otras renovables\"] + df_energia[\"Residuos renovables\"]\n",
    "                                \n",
    "#df_energia[\"energia_fosil\"] = df_energia[\"Carbon\"] + df_energia[\"Motores diesel\"] + df_energia[\"Turbina de gas\"] + df_energia[\"Turbina de vapor\"] + df_energia[\"Ciclo combinado\"] + df_energia[\"Cogeneracion\"] + df_energia[\"Residuos no renovables\"]\n",
    "\n",
    "#df_energia[\"energia_nuclear\"] = df_energia[\"Nuclear\"] \n"
   ]
  },
  {
   "cell_type": "markdown",
   "metadata": {},
   "source": [
    "Mostramos el contenido final del DataFrame"
   ]
  },
  {
   "cell_type": "code",
   "execution_count": 471,
   "metadata": {},
   "outputs": [
    {
     "data": {
      "text/html": [
       "<div>\n",
       "<style scoped>\n",
       "    .dataframe tbody tr th:only-of-type {\n",
       "        vertical-align: middle;\n",
       "    }\n",
       "\n",
       "    .dataframe tbody tr th {\n",
       "        vertical-align: top;\n",
       "    }\n",
       "\n",
       "    .dataframe thead th {\n",
       "        text-align: right;\n",
       "    }\n",
       "</style>\n",
       "<table border=\"1\" class=\"dataframe\">\n",
       "  <thead>\n",
       "    <tr style=\"text-align: right;\">\n",
       "      <th></th>\n",
       "      <th>Fecha</th>\n",
       "      <th>tipo_generacion</th>\n",
       "      <th>energia_generada</th>\n",
       "      <th>origen_energia</th>\n",
       "      <th>emision_CO2</th>\n",
       "      <th>año</th>\n",
       "    </tr>\n",
       "  </thead>\n",
       "  <tbody>\n",
       "    <tr>\n",
       "      <th>0</th>\n",
       "      <td>2011-01-01</td>\n",
       "      <td>Hidraulica</td>\n",
       "      <td>132.922642</td>\n",
       "      <td>Renovable</td>\n",
       "      <td>No</td>\n",
       "      <td>2011</td>\n",
       "    </tr>\n",
       "    <tr>\n",
       "      <th>1</th>\n",
       "      <td>2011-01-02</td>\n",
       "      <td>Hidraulica</td>\n",
       "      <td>122.475160</td>\n",
       "      <td>Renovable</td>\n",
       "      <td>No</td>\n",
       "      <td>2011</td>\n",
       "    </tr>\n",
       "    <tr>\n",
       "      <th>2</th>\n",
       "      <td>2011-01-03</td>\n",
       "      <td>Hidraulica</td>\n",
       "      <td>146.861638</td>\n",
       "      <td>Renovable</td>\n",
       "      <td>No</td>\n",
       "      <td>2011</td>\n",
       "    </tr>\n",
       "    <tr>\n",
       "      <th>3</th>\n",
       "      <td>2011-01-04</td>\n",
       "      <td>Hidraulica</td>\n",
       "      <td>145.876053</td>\n",
       "      <td>Renovable</td>\n",
       "      <td>No</td>\n",
       "      <td>2011</td>\n",
       "    </tr>\n",
       "    <tr>\n",
       "      <th>4</th>\n",
       "      <td>2011-01-05</td>\n",
       "      <td>Hidraulica</td>\n",
       "      <td>158.946134</td>\n",
       "      <td>Renovable</td>\n",
       "      <td>No</td>\n",
       "      <td>2011</td>\n",
       "    </tr>\n",
       "  </tbody>\n",
       "</table>\n",
       "</div>"
      ],
      "text/plain": [
       "       Fecha tipo_generacion  energia_generada origen_energia emision_CO2  \\\n",
       "0 2011-01-01      Hidraulica        132.922642      Renovable          No   \n",
       "1 2011-01-02      Hidraulica        122.475160      Renovable          No   \n",
       "2 2011-01-03      Hidraulica        146.861638      Renovable          No   \n",
       "3 2011-01-04      Hidraulica        145.876053      Renovable          No   \n",
       "4 2011-01-05      Hidraulica        158.946134      Renovable          No   \n",
       "\n",
       "    año  \n",
       "0  2011  \n",
       "1  2011  \n",
       "2  2011  \n",
       "3  2011  \n",
       "4  2011  "
      ]
     },
     "execution_count": 471,
     "metadata": {},
     "output_type": "execute_result"
    }
   ],
   "source": [
    "df_energia.head()"
   ]
  },
  {
   "cell_type": "code",
   "execution_count": 472,
   "metadata": {},
   "outputs": [
    {
     "name": "stdout",
     "output_type": "stream",
     "text": [
      "<class 'pandas.core.frame.DataFrame'>\n",
      "RangeIndex: 70755 entries, 0 to 70754\n",
      "Data columns (total 6 columns):\n",
      " #   Column            Non-Null Count  Dtype         \n",
      "---  ------            --------------  -----         \n",
      " 0   Fecha             70755 non-null  datetime64[ns]\n",
      " 1   tipo_generacion   70755 non-null  object        \n",
      " 2   energia_generada  70755 non-null  float64       \n",
      " 3   origen_energia    70755 non-null  object        \n",
      " 4   emision_CO2       70755 non-null  object        \n",
      " 5   año               70755 non-null  int32         \n",
      "dtypes: datetime64[ns](1), float64(1), int32(1), object(3)\n",
      "memory usage: 3.0+ MB\n"
     ]
    }
   ],
   "source": [
    "df_energia.info()"
   ]
  },
  {
   "cell_type": "markdown",
   "metadata": {},
   "source": [
    "## 2. Análisis univariante"
   ]
  },
  {
   "cell_type": "markdown",
   "metadata": {},
   "source": [
    "Comenzamos el análisis para el DataFrame de energía generada realizando la clasificación de las variables"
   ]
  },
  {
   "cell_type": "markdown",
   "metadata": {},
   "source": [
    "| Columna/Variable  | Descripción                         | Tipo de variable  | Importancia inicial  | Notas |\n",
    "|-------------------|-------------------------------------|-------------------|----------------------|-------|\n",
    "| Fecha             | Fecha de generación                 | Fecha             | 2                    |       |\n",
    "| tipo_generacion   | Método de generación de la energía  | Categórica        | 0                    |       |\n",
    "| energia_generada  | Generación de energía diaria en GWh | Numérica continua | 1                    |       |\n",
    "| origen_energia    | Origen de la fuente de energía      | Categórica        | 1                    |       |\n",
    "| emision_CO2       | Indica si tiene emisión de CO2      | Categórica        | 2                    |       |\n",
    "| año               | Año de generación                   | Numérica discreta | 2                    |       |"
   ]
  },
  {
   "cell_type": "code",
   "execution_count": 473,
   "metadata": {},
   "outputs": [],
   "source": [
    "#Definimos una funcion para obtener la principales medidas de tendencia central\n",
    "def medidas_tendencia_central(df,lista_columnas):\n",
    "    df_medidas = df.describe()[lista_columnas]\n",
    "    df_medidas = df_medidas.T\n",
    "    df_medidas = df_medidas.drop(columns=[\"count\"])\n",
    "    \n",
    "    #Incluimos el coeficiente de variacion\n",
    "    df_medidas[\"coeficiente_variacion\"] = 0.0\n",
    "    for variable in df_medidas.index:\n",
    "        cv = round((df_medidas.loc[variable, \"mean\"]/df_medidas.loc[variable, \"std\"])*100,2)\n",
    "        df_medidas.loc[variable, \"coeficiente_variacion\"] = cv\n",
    "    \n",
    "    return df_medidas"
   ]
  },
  {
   "cell_type": "code",
   "execution_count": 482,
   "metadata": {},
   "outputs": [
    {
     "data": {
      "image/png": "[encoded data removed]",
      "text/plain": [
       "<Figure size 1500x500 with 2 Axes>"
      ]
     },
     "metadata": {},
     "output_type": "display_data"
    }
   ],
   "source": [
    "viz.multiples_categoricas(df_energia, [\"origen_energia\"],relativa=False,mostrar_valores=True)"
   ]
  },
  {
   "cell_type": "code",
   "execution_count": 475,
   "metadata": {},
   "outputs": [
    {
     "name": "stdout",
     "output_type": "stream",
     "text": [
      "(2,)\n"
     ]
    },
    {
     "data": {
      "image/png": "[encoded data removed]",
      "text/plain": [
       "<Figure size 1200x500 with 2 Axes>"
      ]
     },
     "metadata": {},
     "output_type": "display_data"
    }
   ],
   "source": [
    "#Visualizamos el histograma, KDE y diagrama de caja\n",
    "viz.multiples_combinados(df_energia,[\"energia_generada\"], bins=50)"
   ]
  },
  {
   "cell_type": "code",
   "execution_count": 433,
   "metadata": {},
   "outputs": [
    {
     "data": {
      "text/html": [
       "<div>\n",
       "<style scoped>\n",
       "    .dataframe tbody tr th:only-of-type {\n",
       "        vertical-align: middle;\n",
       "    }\n",
       "\n",
       "    .dataframe tbody tr th {\n",
       "        vertical-align: top;\n",
       "    }\n",
       "\n",
       "    .dataframe thead th {\n",
       "        text-align: right;\n",
       "    }\n",
       "</style>\n",
       "<table border=\"1\" class=\"dataframe\">\n",
       "  <thead>\n",
       "    <tr style=\"text-align: right;\">\n",
       "      <th></th>\n",
       "      <th>mean</th>\n",
       "      <th>min</th>\n",
       "      <th>25%</th>\n",
       "      <th>50%</th>\n",
       "      <th>75%</th>\n",
       "      <th>max</th>\n",
       "      <th>std</th>\n",
       "      <th>coeficiente_variacion</th>\n",
       "    </tr>\n",
       "  </thead>\n",
       "  <tbody>\n",
       "    <tr>\n",
       "      <th>energia_generada</th>\n",
       "      <td>48.724962</td>\n",
       "      <td>-1.038624</td>\n",
       "      <td>5.708258</td>\n",
       "      <td>12.562126</td>\n",
       "      <td>77.867385</td>\n",
       "      <td>430.064376</td>\n",
       "      <td>62.126395</td>\n",
       "      <td>78.43</td>\n",
       "    </tr>\n",
       "  </tbody>\n",
       "</table>\n",
       "</div>"
      ],
      "text/plain": [
       "                       mean       min       25%        50%        75%  \\\n",
       "energia_generada  48.724962 -1.038624  5.708258  12.562126  77.867385   \n",
       "\n",
       "                         max        std  coeficiente_variacion  \n",
       "energia_generada  430.064376  62.126395                  78.43  "
      ]
     },
     "execution_count": 433,
     "metadata": {},
     "output_type": "execute_result"
    }
   ],
   "source": [
    "medidas_tendencia_central(df_energia,[\"energia_generada\"])"
   ]
  },
  {
   "cell_type": "markdown",
   "metadata": {},
   "source": [
    "* Distribución asimétrica con poca agrupación y dispersa. \n",
    "* La mediana de generación diaria de energía se situa en torno a los 12.5 GWh\n",
    "* Hay muchos *outliers* por encima del *maximum*"
   ]
  },
  {
   "cell_type": "code",
   "execution_count": 450,
   "metadata": {},
   "outputs": [
    {
     "data": {
      "text/plain": [
       "tipo_energia\n",
       "Renovable    1096\n",
       "Fosil         632\n",
       "Name: count, dtype: int64"
      ]
     },
     "execution_count": 450,
     "metadata": {},
     "output_type": "execute_result"
    }
   ],
   "source": [
    "df_energia.loc[df_energia[\"energia_generada\"]>200,\"tipo_energia\"].value_counts()"
   ]
  },
  {
   "cell_type": "code",
   "execution_count": 483,
   "metadata": {},
   "outputs": [
    {
     "data": {
      "text/html": [
       "<div>\n",
       "<style scoped>\n",
       "    .dataframe tbody tr th:only-of-type {\n",
       "        vertical-align: middle;\n",
       "    }\n",
       "\n",
       "    .dataframe tbody tr th {\n",
       "        vertical-align: top;\n",
       "    }\n",
       "\n",
       "    .dataframe thead th {\n",
       "        text-align: right;\n",
       "    }\n",
       "</style>\n",
       "<table border=\"1\" class=\"dataframe\">\n",
       "  <thead>\n",
       "    <tr style=\"text-align: right;\">\n",
       "      <th></th>\n",
       "      <th>Fecha</th>\n",
       "      <th>tipo_generacion</th>\n",
       "      <th>energia_generada</th>\n",
       "      <th>origen_energia</th>\n",
       "      <th>emision_CO2</th>\n",
       "      <th>año</th>\n",
       "    </tr>\n",
       "  </thead>\n",
       "  <tbody>\n",
       "    <tr>\n",
       "      <th>49693</th>\n",
       "      <td>2017-11-28</td>\n",
       "      <td>Solar termica</td>\n",
       "      <td>0.0</td>\n",
       "      <td>Renovable</td>\n",
       "      <td>No</td>\n",
       "      <td>2017</td>\n",
       "    </tr>\n",
       "    <tr>\n",
       "      <th>50052</th>\n",
       "      <td>2018-11-22</td>\n",
       "      <td>Solar termica</td>\n",
       "      <td>0.0</td>\n",
       "      <td>Renovable</td>\n",
       "      <td>No</td>\n",
       "      <td>2018</td>\n",
       "    </tr>\n",
       "    <tr>\n",
       "      <th>50406</th>\n",
       "      <td>2019-11-11</td>\n",
       "      <td>Solar termica</td>\n",
       "      <td>0.0</td>\n",
       "      <td>Renovable</td>\n",
       "      <td>No</td>\n",
       "      <td>2019</td>\n",
       "    </tr>\n",
       "    <tr>\n",
       "      <th>50416</th>\n",
       "      <td>2019-11-21</td>\n",
       "      <td>Solar termica</td>\n",
       "      <td>0.0</td>\n",
       "      <td>Renovable</td>\n",
       "      <td>No</td>\n",
       "      <td>2019</td>\n",
       "    </tr>\n",
       "  </tbody>\n",
       "</table>\n",
       "</div>"
      ],
      "text/plain": [
       "           Fecha tipo_generacion  energia_generada origen_energia emision_CO2  \\\n",
       "49693 2017-11-28   Solar termica               0.0      Renovable          No   \n",
       "50052 2018-11-22   Solar termica               0.0      Renovable          No   \n",
       "50406 2019-11-11   Solar termica               0.0      Renovable          No   \n",
       "50416 2019-11-21   Solar termica               0.0      Renovable          No   \n",
       "\n",
       "        año  \n",
       "49693  2017  \n",
       "50052  2018  \n",
       "50406  2019  \n",
       "50416  2019  "
      ]
     },
     "execution_count": 483,
     "metadata": {},
     "output_type": "execute_result"
    }
   ],
   "source": [
    "df_energia.loc[df_energia[\"energia_generada\"]==0]"
   ]
  },
  {
   "cell_type": "markdown",
   "metadata": {},
   "source": [
    "## 3. Análisis multivariante"
   ]
  },
  {
   "cell_type": "code",
   "execution_count": null,
   "metadata": {},
   "outputs": [],
   "source": []
  }
 ],
 "metadata": {
  "kernelspec": {
   "display_name": "Python 3",
   "language": "python",
   "name": "python3"
  },
  "language_info": {
   "codemirror_mode": {
    "name": "ipython",
    "version": 3
   },
   "file_extension": ".py",
   "mimetype": "text/x-python",
   "name": "python",
   "nbconvert_exporter": "python",
   "pygments_lexer": "ipython3",
   "version": "3.10.11"
  }
 },
 "nbformat": 4,
 "nbformat_minor": 2
}
