{
 "cells": [
  {
   "cell_type": "markdown",
   "metadata": {},
   "source": [
    "# Índice\n",
    "\n",
    "1. [Exploración inicial y preparación de los datos](#Exploración-inicial-y-preparación-de-los-datos)\n",
    "2. [PRUEBA](#PRUEBA)"
   ]
  },
  {
   "cell_type": "markdown",
   "metadata": {},
   "source": [
    "## Exploración inicial y preparación de los datos"
   ]
  },
  {
   "cell_type": "code",
   "execution_count": 225,
   "metadata": {},
   "outputs": [],
   "source": [
    "#Importamos las librerias necesarias\n",
    "import pandas as pd\n",
    "import matplotlib.pyplot as plt\n",
    "import seaborn as sns"
   ]
  },
  {
   "cell_type": "code",
   "execution_count": 226,
   "metadata": {},
   "outputs": [],
   "source": [
    "#Creamos los DataFrames\n",
    "df_energia = pd.read_csv(\"./data/energy_dataset.csv\")\n",
    "df_meteo = pd.read_csv(\"./data/weather_features.csv\")"
   ]
  },
  {
   "cell_type": "markdown",
   "metadata": {},
   "source": [
    "Comenzamos viendo el DataFrame asociado a la generación de energía"
   ]
  },
  {
   "cell_type": "code",
   "execution_count": 227,
   "metadata": {},
   "outputs": [
    {
     "data": {
      "text/html": [
       "<div>\n",
       "<style scoped>\n",
       "    .dataframe tbody tr th:only-of-type {\n",
       "        vertical-align: middle;\n",
       "    }\n",
       "\n",
       "    .dataframe tbody tr th {\n",
       "        vertical-align: top;\n",
       "    }\n",
       "\n",
       "    .dataframe thead th {\n",
       "        text-align: right;\n",
       "    }\n",
       "</style>\n",
       "<table border=\"1\" class=\"dataframe\">\n",
       "  <thead>\n",
       "    <tr style=\"text-align: right;\">\n",
       "      <th></th>\n",
       "      <th>time</th>\n",
       "      <th>generation biomass</th>\n",
       "      <th>generation fossil brown coal/lignite</th>\n",
       "      <th>generation fossil coal-derived gas</th>\n",
       "      <th>generation fossil gas</th>\n",
       "      <th>generation fossil hard coal</th>\n",
       "      <th>generation fossil oil</th>\n",
       "      <th>generation fossil oil shale</th>\n",
       "      <th>generation fossil peat</th>\n",
       "      <th>generation geothermal</th>\n",
       "      <th>...</th>\n",
       "      <th>generation waste</th>\n",
       "      <th>generation wind offshore</th>\n",
       "      <th>generation wind onshore</th>\n",
       "      <th>forecast solar day ahead</th>\n",
       "      <th>forecast wind offshore eday ahead</th>\n",
       "      <th>forecast wind onshore day ahead</th>\n",
       "      <th>total load forecast</th>\n",
       "      <th>total load actual</th>\n",
       "      <th>price day ahead</th>\n",
       "      <th>price actual</th>\n",
       "    </tr>\n",
       "  </thead>\n",
       "  <tbody>\n",
       "    <tr>\n",
       "      <th>0</th>\n",
       "      <td>2015-01-01 00:00:00+01:00</td>\n",
       "      <td>447.0</td>\n",
       "      <td>329.0</td>\n",
       "      <td>0.0</td>\n",
       "      <td>4844.0</td>\n",
       "      <td>4821.0</td>\n",
       "      <td>162.0</td>\n",
       "      <td>0.0</td>\n",
       "      <td>0.0</td>\n",
       "      <td>0.0</td>\n",
       "      <td>...</td>\n",
       "      <td>196.0</td>\n",
       "      <td>0.0</td>\n",
       "      <td>6378.0</td>\n",
       "      <td>17.0</td>\n",
       "      <td>NaN</td>\n",
       "      <td>6436.0</td>\n",
       "      <td>26118.0</td>\n",
       "      <td>25385.0</td>\n",
       "      <td>50.10</td>\n",
       "      <td>65.41</td>\n",
       "    </tr>\n",
       "    <tr>\n",
       "      <th>1</th>\n",
       "      <td>2015-01-01 01:00:00+01:00</td>\n",
       "      <td>449.0</td>\n",
       "      <td>328.0</td>\n",
       "      <td>0.0</td>\n",
       "      <td>5196.0</td>\n",
       "      <td>4755.0</td>\n",
       "      <td>158.0</td>\n",
       "      <td>0.0</td>\n",
       "      <td>0.0</td>\n",
       "      <td>0.0</td>\n",
       "      <td>...</td>\n",
       "      <td>195.0</td>\n",
       "      <td>0.0</td>\n",
       "      <td>5890.0</td>\n",
       "      <td>16.0</td>\n",
       "      <td>NaN</td>\n",
       "      <td>5856.0</td>\n",
       "      <td>24934.0</td>\n",
       "      <td>24382.0</td>\n",
       "      <td>48.10</td>\n",
       "      <td>64.92</td>\n",
       "    </tr>\n",
       "    <tr>\n",
       "      <th>2</th>\n",
       "      <td>2015-01-01 02:00:00+01:00</td>\n",
       "      <td>448.0</td>\n",
       "      <td>323.0</td>\n",
       "      <td>0.0</td>\n",
       "      <td>4857.0</td>\n",
       "      <td>4581.0</td>\n",
       "      <td>157.0</td>\n",
       "      <td>0.0</td>\n",
       "      <td>0.0</td>\n",
       "      <td>0.0</td>\n",
       "      <td>...</td>\n",
       "      <td>196.0</td>\n",
       "      <td>0.0</td>\n",
       "      <td>5461.0</td>\n",
       "      <td>8.0</td>\n",
       "      <td>NaN</td>\n",
       "      <td>5454.0</td>\n",
       "      <td>23515.0</td>\n",
       "      <td>22734.0</td>\n",
       "      <td>47.33</td>\n",
       "      <td>64.48</td>\n",
       "    </tr>\n",
       "    <tr>\n",
       "      <th>3</th>\n",
       "      <td>2015-01-01 03:00:00+01:00</td>\n",
       "      <td>438.0</td>\n",
       "      <td>254.0</td>\n",
       "      <td>0.0</td>\n",
       "      <td>4314.0</td>\n",
       "      <td>4131.0</td>\n",
       "      <td>160.0</td>\n",
       "      <td>0.0</td>\n",
       "      <td>0.0</td>\n",
       "      <td>0.0</td>\n",
       "      <td>...</td>\n",
       "      <td>191.0</td>\n",
       "      <td>0.0</td>\n",
       "      <td>5238.0</td>\n",
       "      <td>2.0</td>\n",
       "      <td>NaN</td>\n",
       "      <td>5151.0</td>\n",
       "      <td>22642.0</td>\n",
       "      <td>21286.0</td>\n",
       "      <td>42.27</td>\n",
       "      <td>59.32</td>\n",
       "    </tr>\n",
       "    <tr>\n",
       "      <th>4</th>\n",
       "      <td>2015-01-01 04:00:00+01:00</td>\n",
       "      <td>428.0</td>\n",
       "      <td>187.0</td>\n",
       "      <td>0.0</td>\n",
       "      <td>4130.0</td>\n",
       "      <td>3840.0</td>\n",
       "      <td>156.0</td>\n",
       "      <td>0.0</td>\n",
       "      <td>0.0</td>\n",
       "      <td>0.0</td>\n",
       "      <td>...</td>\n",
       "      <td>189.0</td>\n",
       "      <td>0.0</td>\n",
       "      <td>4935.0</td>\n",
       "      <td>9.0</td>\n",
       "      <td>NaN</td>\n",
       "      <td>4861.0</td>\n",
       "      <td>21785.0</td>\n",
       "      <td>20264.0</td>\n",
       "      <td>38.41</td>\n",
       "      <td>56.04</td>\n",
       "    </tr>\n",
       "  </tbody>\n",
       "</table>\n",
       "<p>5 rows × 29 columns</p>\n",
       "</div>"
      ],
      "text/plain": [
       "                        time  generation biomass  \\\n",
       "0  2015-01-01 00:00:00+01:00               447.0   \n",
       "1  2015-01-01 01:00:00+01:00               449.0   \n",
       "2  2015-01-01 02:00:00+01:00               448.0   \n",
       "3  2015-01-01 03:00:00+01:00               438.0   \n",
       "4  2015-01-01 04:00:00+01:00               428.0   \n",
       "\n",
       "   generation fossil brown coal/lignite  generation fossil coal-derived gas  \\\n",
       "0                                 329.0                                 0.0   \n",
       "1                                 328.0                                 0.0   \n",
       "2                                 323.0                                 0.0   \n",
       "3                                 254.0                                 0.0   \n",
       "4                                 187.0                                 0.0   \n",
       "\n",
       "   generation fossil gas  generation fossil hard coal  generation fossil oil  \\\n",
       "0                 4844.0                       4821.0                  162.0   \n",
       "1                 5196.0                       4755.0                  158.0   \n",
       "2                 4857.0                       4581.0                  157.0   \n",
       "3                 4314.0                       4131.0                  160.0   \n",
       "4                 4130.0                       3840.0                  156.0   \n",
       "\n",
       "   generation fossil oil shale  generation fossil peat  generation geothermal  \\\n",
       "0                          0.0                     0.0                    0.0   \n",
       "1                          0.0                     0.0                    0.0   \n",
       "2                          0.0                     0.0                    0.0   \n",
       "3                          0.0                     0.0                    0.0   \n",
       "4                          0.0                     0.0                    0.0   \n",
       "\n",
       "   ...  generation waste  generation wind offshore  generation wind onshore  \\\n",
       "0  ...             196.0                       0.0                   6378.0   \n",
       "1  ...             195.0                       0.0                   5890.0   \n",
       "2  ...             196.0                       0.0                   5461.0   \n",
       "3  ...             191.0                       0.0                   5238.0   \n",
       "4  ...             189.0                       0.0                   4935.0   \n",
       "\n",
       "   forecast solar day ahead  forecast wind offshore eday ahead  \\\n",
       "0                      17.0                                NaN   \n",
       "1                      16.0                                NaN   \n",
       "2                       8.0                                NaN   \n",
       "3                       2.0                                NaN   \n",
       "4                       9.0                                NaN   \n",
       "\n",
       "   forecast wind onshore day ahead  total load forecast  total load actual  \\\n",
       "0                           6436.0              26118.0            25385.0   \n",
       "1                           5856.0              24934.0            24382.0   \n",
       "2                           5454.0              23515.0            22734.0   \n",
       "3                           5151.0              22642.0            21286.0   \n",
       "4                           4861.0              21785.0            20264.0   \n",
       "\n",
       "   price day ahead  price actual  \n",
       "0            50.10         65.41  \n",
       "1            48.10         64.92  \n",
       "2            47.33         64.48  \n",
       "3            42.27         59.32  \n",
       "4            38.41         56.04  \n",
       "\n",
       "[5 rows x 29 columns]"
      ]
     },
     "execution_count": 227,
     "metadata": {},
     "output_type": "execute_result"
    }
   ],
   "source": [
    "df_energia.head(5)"
   ]
  },
  {
   "cell_type": "code",
   "execution_count": 228,
   "metadata": {},
   "outputs": [
    {
     "name": "stdout",
     "output_type": "stream",
     "text": [
      "<class 'pandas.core.frame.DataFrame'>\n",
      "RangeIndex: 35064 entries, 0 to 35063\n",
      "Data columns (total 29 columns):\n",
      " #   Column                                       Non-Null Count  Dtype  \n",
      "---  ------                                       --------------  -----  \n",
      " 0   time                                         35064 non-null  object \n",
      " 1   generation biomass                           35045 non-null  float64\n",
      " 2   generation fossil brown coal/lignite         35046 non-null  float64\n",
      " 3   generation fossil coal-derived gas           35046 non-null  float64\n",
      " 4   generation fossil gas                        35046 non-null  float64\n",
      " 5   generation fossil hard coal                  35046 non-null  float64\n",
      " 6   generation fossil oil                        35045 non-null  float64\n",
      " 7   generation fossil oil shale                  35046 non-null  float64\n",
      " 8   generation fossil peat                       35046 non-null  float64\n",
      " 9   generation geothermal                        35046 non-null  float64\n",
      " 10  generation hydro pumped storage aggregated   0 non-null      float64\n",
      " 11  generation hydro pumped storage consumption  35045 non-null  float64\n",
      " 12  generation hydro run-of-river and poundage   35045 non-null  float64\n",
      " 13  generation hydro water reservoir             35046 non-null  float64\n",
      " 14  generation marine                            35045 non-null  float64\n",
      " 15  generation nuclear                           35047 non-null  float64\n",
      " 16  generation other                             35046 non-null  float64\n",
      " 17  generation other renewable                   35046 non-null  float64\n",
      " 18  generation solar                             35046 non-null  float64\n",
      " 19  generation waste                             35045 non-null  float64\n",
      " 20  generation wind offshore                     35046 non-null  float64\n",
      " 21  generation wind onshore                      35046 non-null  float64\n",
      " 22  forecast solar day ahead                     35064 non-null  float64\n",
      " 23  forecast wind offshore eday ahead            0 non-null      float64\n",
      " 24  forecast wind onshore day ahead              35064 non-null  float64\n",
      " 25  total load forecast                          35064 non-null  float64\n",
      " 26  total load actual                            35028 non-null  float64\n",
      " 27  price day ahead                              35064 non-null  float64\n",
      " 28  price actual                                 35064 non-null  float64\n",
      "dtypes: float64(28), object(1)\n",
      "memory usage: 7.8+ MB\n"
     ]
    }
   ],
   "source": [
    "df_energia.info()"
   ]
  },
  {
   "cell_type": "markdown",
   "metadata": {},
   "source": [
    "Convertimos el tipo de la columna <time> al formato adecuado"
   ]
  },
  {
   "cell_type": "code",
   "execution_count": 229,
   "metadata": {},
   "outputs": [
    {
     "name": "stdout",
     "output_type": "stream",
     "text": [
      "<class 'pandas.core.frame.DataFrame'>\n",
      "RangeIndex: 35064 entries, 0 to 35063\n",
      "Data columns (total 29 columns):\n",
      " #   Column                                       Non-Null Count  Dtype              \n",
      "---  ------                                       --------------  -----              \n",
      " 0   time                                         35064 non-null  datetime64[ns, UTC]\n",
      " 1   generation biomass                           35045 non-null  float64            \n",
      " 2   generation fossil brown coal/lignite         35046 non-null  float64            \n",
      " 3   generation fossil coal-derived gas           35046 non-null  float64            \n",
      " 4   generation fossil gas                        35046 non-null  float64            \n",
      " 5   generation fossil hard coal                  35046 non-null  float64            \n",
      " 6   generation fossil oil                        35045 non-null  float64            \n",
      " 7   generation fossil oil shale                  35046 non-null  float64            \n",
      " 8   generation fossil peat                       35046 non-null  float64            \n",
      " 9   generation geothermal                        35046 non-null  float64            \n",
      " 10  generation hydro pumped storage aggregated   0 non-null      float64            \n",
      " 11  generation hydro pumped storage consumption  35045 non-null  float64            \n",
      " 12  generation hydro run-of-river and poundage   35045 non-null  float64            \n",
      " 13  generation hydro water reservoir             35046 non-null  float64            \n",
      " 14  generation marine                            35045 non-null  float64            \n",
      " 15  generation nuclear                           35047 non-null  float64            \n",
      " 16  generation other                             35046 non-null  float64            \n",
      " 17  generation other renewable                   35046 non-null  float64            \n",
      " 18  generation solar                             35046 non-null  float64            \n",
      " 19  generation waste                             35045 non-null  float64            \n",
      " 20  generation wind offshore                     35046 non-null  float64            \n",
      " 21  generation wind onshore                      35046 non-null  float64            \n",
      " 22  forecast solar day ahead                     35064 non-null  float64            \n",
      " 23  forecast wind offshore eday ahead            0 non-null      float64            \n",
      " 24  forecast wind onshore day ahead              35064 non-null  float64            \n",
      " 25  total load forecast                          35064 non-null  float64            \n",
      " 26  total load actual                            35028 non-null  float64            \n",
      " 27  price day ahead                              35064 non-null  float64            \n",
      " 28  price actual                                 35064 non-null  float64            \n",
      "dtypes: datetime64[ns, UTC](1), float64(28)\n",
      "memory usage: 7.8 MB\n"
     ]
    }
   ],
   "source": [
    "df_energia[\"time\"] = pd.to_datetime(df_energia[\"time\"], utc=True)\n",
    "df_energia.info()"
   ]
  },
  {
   "cell_type": "markdown",
   "metadata": {},
   "source": [
    "Para el propósito del presente EDA no necesitaremos ciertas columnas, por lo que las eliminamos del DataFrame\n",
    "1. La columna \"generation hydro pumped storage aggregated\" solo contiene nulos, así que la eliminamos\n",
    "2. Eliminamos también las columnas de previsiones"
   ]
  },
  {
   "cell_type": "code",
   "execution_count": 230,
   "metadata": {},
   "outputs": [
    {
     "name": "stdout",
     "output_type": "stream",
     "text": [
      "<class 'pandas.core.frame.DataFrame'>\n",
      "RangeIndex: 35064 entries, 0 to 35063\n",
      "Data columns (total 23 columns):\n",
      " #   Column                                       Non-Null Count  Dtype              \n",
      "---  ------                                       --------------  -----              \n",
      " 0   time                                         35064 non-null  datetime64[ns, UTC]\n",
      " 1   generation biomass                           35045 non-null  float64            \n",
      " 2   generation fossil brown coal/lignite         35046 non-null  float64            \n",
      " 3   generation fossil coal-derived gas           35046 non-null  float64            \n",
      " 4   generation fossil gas                        35046 non-null  float64            \n",
      " 5   generation fossil hard coal                  35046 non-null  float64            \n",
      " 6   generation fossil oil                        35045 non-null  float64            \n",
      " 7   generation fossil oil shale                  35046 non-null  float64            \n",
      " 8   generation fossil peat                       35046 non-null  float64            \n",
      " 9   generation geothermal                        35046 non-null  float64            \n",
      " 10  generation hydro pumped storage consumption  35045 non-null  float64            \n",
      " 11  generation hydro run-of-river and poundage   35045 non-null  float64            \n",
      " 12  generation hydro water reservoir             35046 non-null  float64            \n",
      " 13  generation marine                            35045 non-null  float64            \n",
      " 14  generation nuclear                           35047 non-null  float64            \n",
      " 15  generation other                             35046 non-null  float64            \n",
      " 16  generation other renewable                   35046 non-null  float64            \n",
      " 17  generation solar                             35046 non-null  float64            \n",
      " 18  generation waste                             35045 non-null  float64            \n",
      " 19  generation wind offshore                     35046 non-null  float64            \n",
      " 20  generation wind onshore                      35046 non-null  float64            \n",
      " 21  total load actual                            35028 non-null  float64            \n",
      " 22  price actual                                 35064 non-null  float64            \n",
      "dtypes: datetime64[ns, UTC](1), float64(22)\n",
      "memory usage: 6.2 MB\n"
     ]
    }
   ],
   "source": [
    "columnas_eliminar = [\"generation hydro pumped storage aggregated\",\"forecast solar day ahead\",\"forecast wind offshore eday ahead\",\"forecast wind onshore day ahead\",\"total load forecast\", \"price day ahead\"]\n",
    "df_energia.drop(columns=columnas_eliminar,inplace=True)\n",
    "df_energia.info()"
   ]
  },
  {
   "cell_type": "markdown",
   "metadata": {},
   "source": [
    "Evaluamos el porcentaje de valores nulos en cada columna para decidir cómo tratarlos"
   ]
  },
  {
   "cell_type": "code",
   "execution_count": 231,
   "metadata": {},
   "outputs": [
    {
     "name": "stdout",
     "output_type": "stream",
     "text": [
      "el porcentaje de nulos de la columna time es: 0.0%\n",
      "el porcentaje de nulos de la columna generation biomass es: 0.05%\n",
      "el porcentaje de nulos de la columna generation fossil brown coal/lignite es: 0.05%\n",
      "el porcentaje de nulos de la columna generation fossil coal-derived gas es: 0.05%\n",
      "el porcentaje de nulos de la columna generation fossil gas es: 0.05%\n",
      "el porcentaje de nulos de la columna generation fossil hard coal es: 0.05%\n",
      "el porcentaje de nulos de la columna generation fossil oil es: 0.05%\n",
      "el porcentaje de nulos de la columna generation fossil oil shale es: 0.05%\n",
      "el porcentaje de nulos de la columna generation fossil peat es: 0.05%\n",
      "el porcentaje de nulos de la columna generation geothermal es: 0.05%\n",
      "el porcentaje de nulos de la columna generation hydro pumped storage consumption es: 0.05%\n",
      "el porcentaje de nulos de la columna generation hydro run-of-river and poundage es: 0.05%\n",
      "el porcentaje de nulos de la columna generation hydro water reservoir es: 0.05%\n",
      "el porcentaje de nulos de la columna generation marine es: 0.05%\n",
      "el porcentaje de nulos de la columna generation nuclear es: 0.05%\n",
      "el porcentaje de nulos de la columna generation other es: 0.05%\n",
      "el porcentaje de nulos de la columna generation other renewable es: 0.05%\n",
      "el porcentaje de nulos de la columna generation solar es: 0.05%\n",
      "el porcentaje de nulos de la columna generation waste es: 0.05%\n",
      "el porcentaje de nulos de la columna generation wind offshore es: 0.05%\n",
      "el porcentaje de nulos de la columna generation wind onshore es: 0.05%\n",
      "el porcentaje de nulos de la columna total load actual es: 0.1%\n",
      "el porcentaje de nulos de la columna price actual es: 0.0%\n",
      "\n",
      "El máximo porcentaje de nulos se da en la columna 'total load actual' y es un 0.1%\n"
     ]
    }
   ],
   "source": [
    "columna_maximo = \"\"\n",
    "porcentaje_maximo = 0\n",
    "\n",
    "for columna in df_energia.columns:\n",
    "    porcentaje_nulos = (df_energia[columna].isna().sum()/len(df_energia))*100\n",
    "    print(f\"el porcentaje de nulos de la columna {columna} es: {porcentaje_nulos.round(2)}%\")\n",
    "    if porcentaje_nulos > porcentaje_maximo:\n",
    "        columna_maximo = columna\n",
    "        porcentaje_maximo = porcentaje_nulos\n",
    "\n",
    "if columna_maximo !=\"\":\n",
    "    print(f\"\\nEl máximo porcentaje de nulos se da en la columna '{columna_maximo}' y es un {porcentaje_maximo.round(2)}%\")\n",
    "else:\n",
    "    print(\"Ninguna columna tiene valores nulos\")\n",
    "    "
   ]
  },
  {
   "cell_type": "markdown",
   "metadata": {},
   "source": [
    "Para la columna con mayor porcentaje de nulos, éstos sólo suponen un 0,1% . A la luz de este resultado, podemos eliminar del DataFrame cualquier fila que contenga algún nulo sin provocar un sesgo importante"
   ]
  },
  {
   "cell_type": "code",
   "execution_count": 232,
   "metadata": {},
   "outputs": [
    {
     "name": "stdout",
     "output_type": "stream",
     "text": [
      "<class 'pandas.core.frame.DataFrame'>\n",
      "Index: 35017 entries, 0 to 35063\n",
      "Data columns (total 23 columns):\n",
      " #   Column                                       Non-Null Count  Dtype              \n",
      "---  ------                                       --------------  -----              \n",
      " 0   time                                         35017 non-null  datetime64[ns, UTC]\n",
      " 1   generation biomass                           35017 non-null  float64            \n",
      " 2   generation fossil brown coal/lignite         35017 non-null  float64            \n",
      " 3   generation fossil coal-derived gas           35017 non-null  float64            \n",
      " 4   generation fossil gas                        35017 non-null  float64            \n",
      " 5   generation fossil hard coal                  35017 non-null  float64            \n",
      " 6   generation fossil oil                        35017 non-null  float64            \n",
      " 7   generation fossil oil shale                  35017 non-null  float64            \n",
      " 8   generation fossil peat                       35017 non-null  float64            \n",
      " 9   generation geothermal                        35017 non-null  float64            \n",
      " 10  generation hydro pumped storage consumption  35017 non-null  float64            \n",
      " 11  generation hydro run-of-river and poundage   35017 non-null  float64            \n",
      " 12  generation hydro water reservoir             35017 non-null  float64            \n",
      " 13  generation marine                            35017 non-null  float64            \n",
      " 14  generation nuclear                           35017 non-null  float64            \n",
      " 15  generation other                             35017 non-null  float64            \n",
      " 16  generation other renewable                   35017 non-null  float64            \n",
      " 17  generation solar                             35017 non-null  float64            \n",
      " 18  generation waste                             35017 non-null  float64            \n",
      " 19  generation wind offshore                     35017 non-null  float64            \n",
      " 20  generation wind onshore                      35017 non-null  float64            \n",
      " 21  total load actual                            35017 non-null  float64            \n",
      " 22  price actual                                 35017 non-null  float64            \n",
      "dtypes: datetime64[ns, UTC](1), float64(22)\n",
      "memory usage: 6.4 MB\n"
     ]
    }
   ],
   "source": [
    "df_energia.dropna(how=\"any\",inplace=True)\n",
    "df_energia.info()"
   ]
  },
  {
   "cell_type": "markdown",
   "metadata": {},
   "source": [
    "Categorizamos la energía generada en cuatro grandes tipos:\n",
    "* Energía fósil\n",
    "* Energía renovable\n",
    "* Energía nuclear\n",
    "* Otro tipo de energía\n",
    "\n",
    "Creamos cuatro nuevas columnas con la suma de la energía generada por tipos y eliminamos las columnas originales tras la suma"
   ]
  },
  {
   "cell_type": "code",
   "execution_count": 233,
   "metadata": {},
   "outputs": [],
   "source": [
    "df_energia[\"energia_fosil_generada\"] = df_energia[\"generation fossil brown coal/lignite\"] + df_energia[\"generation fossil coal-derived gas\"] \\\n",
    "                                    + df_energia[\"generation fossil gas\"] + df_energia[\"generation fossil hard coal\"] + df_energia[\"generation fossil oil\"] \\\n",
    "                                    + df_energia[\"generation fossil oil shale\"] + df_energia[\"generation fossil peat\"]\n",
    "                                    \n",
    "df_energia[\"energia_renovable_generada\"] = df_energia[\"generation biomass\"] + df_energia[\"generation geothermal\"] + df_energia[\"generation hydro pumped storage consumption\"] \\\n",
    "                                        + df_energia[\"generation hydro run-of-river and poundage\"] + df_energia[\"generation hydro water reservoir\"] \\\n",
    "                                        + df_energia[\"generation marine\"] + df_energia[\"generation other renewable\"] + df_energia[\"generation solar\"] \\\n",
    "                                        + df_energia[\"generation waste\"] + df_energia[\"generation wind offshore\"] + df_energia[\"generation wind onshore\"]\n",
    "                                        \n",
    "df_energia[\"energia_nuclear_generada\"] = df_energia[\"generation nuclear\"]\n",
    "\n",
    "df_energia[\"energia_otros_generada\"] = df_energia[\"generation other\"]"
   ]
  },
  {
   "cell_type": "code",
   "execution_count": 234,
   "metadata": {},
   "outputs": [
    {
     "name": "stdout",
     "output_type": "stream",
     "text": [
      "<class 'pandas.core.frame.DataFrame'>\n",
      "Index: 35017 entries, 0 to 35063\n",
      "Data columns (total 7 columns):\n",
      " #   Column                      Non-Null Count  Dtype              \n",
      "---  ------                      --------------  -----              \n",
      " 0   fecha_hora_UTC              35017 non-null  datetime64[ns, UTC]\n",
      " 1   demanda_energia             35017 non-null  float64            \n",
      " 2   precio_energia              35017 non-null  float64            \n",
      " 3   energia_fosil_generada      35017 non-null  float64            \n",
      " 4   energia_renovable_generada  35017 non-null  float64            \n",
      " 5   energia_nuclear_generada    35017 non-null  float64            \n",
      " 6   energia_otros_generada      35017 non-null  float64            \n",
      "dtypes: datetime64[ns, UTC](1), float64(6)\n",
      "memory usage: 2.1 MB\n"
     ]
    }
   ],
   "source": [
    "columnas_eliminar = [\"generation fossil brown coal/lignite\",\"generation fossil coal-derived gas\",\"generation fossil gas\",\"generation fossil hard coal\",\"generation fossil oil\",\\\n",
    "                    \"generation fossil oil shale\",\"generation fossil peat\",\"generation biomass\",\"generation geothermal\",\"generation hydro pumped storage consumption\",\\\n",
    "                    \"generation hydro run-of-river and poundage\",\"generation hydro water reservoir\",\"generation marine\",\"generation other renewable\",\"generation solar\",\\\n",
    "                    \"generation waste\",\"generation wind offshore\",\"generation wind onshore\",\"generation nuclear\",\"generation other\"]\n",
    "\n",
    "df_energia.drop(columns=columnas_eliminar,inplace=True)\n",
    "\n",
    "#Renombramos el resto de columnas con su nombre en español\n",
    "df_energia.rename(columns={\"time\":\"fecha_hora_UTC\", \"total load actual\":\"demanda_energia\",\"price actual\":\"precio_energia\"}, inplace=True)\n",
    "df_energia.info()"
   ]
  },
  {
   "cell_type": "markdown",
   "metadata": {},
   "source": [
    "Continuamos con el DataFrame asociado a las condiciones climáticas de varias ciudades de España"
   ]
  },
  {
   "cell_type": "markdown",
   "metadata": {},
   "source": [
    "# PRUEBA\n"
   ]
  }
 ],
 "metadata": {
  "kernelspec": {
   "display_name": "Python 3",
   "language": "python",
   "name": "python3"
  },
  "language_info": {
   "codemirror_mode": {
    "name": "ipython",
    "version": 3
   },
   "file_extension": ".py",
   "mimetype": "text/x-python",
   "name": "python",
   "nbconvert_exporter": "python",
   "pygments_lexer": "ipython3",
   "version": "3.10.11"
  }
 },
 "nbformat": 4,
 "nbformat_minor": 2
}
